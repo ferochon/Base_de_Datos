{
  "nbformat": 4,
  "nbformat_minor": 0,
  "metadata": {
    "colab": {
      "name": "ejerciciospoo1.ipynb",
      "provenance": [],
      "collapsed_sections": [],
      "authorship_tag": "ABX9TyPVZRzji9O3jE1AvdC9nz5E",
      "include_colab_link": true
    },
    "kernelspec": {
      "name": "python3",
      "display_name": "Python 3"
    },
    "language_info": {
      "name": "python"
    }
  },
  "cells": [
    {
      "cell_type": "markdown",
      "metadata": {
        "id": "view-in-github",
        "colab_type": "text"
      },
      "source": [
        "<a href=\"https://colab.research.google.com/github/ferochon/Base_de_Datos/blob/main/07.POO/ejerciciospoo1.ipynb\" target=\"_parent\"><img src=\"https://colab.research.google.com/assets/colab-badge.svg\" alt=\"Open In Colab\"/></a>"
      ]
    },
    {
      "cell_type": "code",
      "execution_count": null,
      "metadata": {
        "id": "pFUFor2B21_y"
      },
      "outputs": [],
      "source": [
        "class Usuario:      #es igual que la instrucción de abajo poner los parentesis arriba o bajo\n",
        "  def __init__(self, nombre,folio,telefono,correo):     #metodo construor, creando molde de donde salen varios elemenetos, __init__ es una convención pero no puede tener cialquier nombre\n",
        "    self.nombre=nombre                                    #llamada que tenrda valr difernte\n",
        "    self.folio=folio\n",
        "    self.telefono=telefono\n",
        "    self.correo=correo       # se creo una clase\n",
        "    self.talleres=[]   # las listas, tuplas ni diccionarios no se ponen en el init\n",
        "    \n",
        "\n",
        "usuario1=Usuario('Rafael','8520','558666996','raff@gmail.com')      #instanciar un objeto  'hacer una galletita', craendo atribiutos\n",
        "print(usuario1.nombre)\n",
        "print(usuario1.telefono)\n",
        "\n",
        "usuario2=Usuario('Jose','8430','5525903214','holistico@gmail.com')\n",
        "print(usuario2.nombre)\n",
        " \n",
        "usuario1.talleres.append('Electrónica')\n",
        "\n",
        "usuario2.talleres['costura', 'electrónica', 'jardiinería']\n",
        "\n",
        "usuario2.dierccion='calle Morelos 90 colonia Moctezuma alcaldía Tlalpan'\n",
        "\n"
      ]
    },
    {
      "cell_type": "code",
      "source": [
        "class Usuario:                                          #es igual que la instrucción de abajo poner los parentesis arriba o bajo\n",
        "  def __init__(self, nombre,folio,telefono,correo):     #metodo construor, creando molde de donde salen varios elemenetos, __init__ es una convención pero no puede tener cialquier nombre\n",
        "    self.nombre=nombre                                  #llamada que tenrda valr difernte\n",
        "    self.folio=folio\n",
        "    self.telefono=telefono\n",
        "    self.correo=correo                                  # se creo una clase\n",
        "    self.talleres=[]                                    # las listas, tuplas ni diccionarios no se ponen en el init\n",
        "\n",
        "  def Consultar(self):                                 #función consultar/ método\n",
        "    return(f'''\n",
        "    nombre: {self.nombre}\n",
        "    folio:{self.folio}\n",
        "    telefono:{self.telefono}\n",
        "    correo:{self.correo}\n",
        "    talleres:{self.talleres}\n",
        "     ''')  \n",
        "\n",
        "  def Modificar(self):\n",
        "    self.nombre=input(f'Ingresa el nuevo nombre ' )   \n",
        "    self.folio=input(f'Ingresa el nuevo folio (modificar)  {self.folio}: ')\n",
        "    self.telefono=input(f'Ingresa el nuevo telefono (modificar) {self.telefono}: ')\n",
        "    self.correo=input(f'Ingresa el nuevo correo (modificar) {self.correo} : ')\n",
        "\n",
        "\n",
        "usuario4=Usuario('Pedro', '9020','5553842567', 'estirpe2000@gmail.com') \n",
        "usuario4.talleres.append('Carpintería')    \n",
        "print(usuario4.Modificar())\n",
        "print(usuario4.Consultar())"
      ],
      "metadata": {
        "id": "qHoaXGh8G4rd",
        "colab": {
          "base_uri": "https://localhost:8080/"
        },
        "outputId": "df1759d1-3ef7-4375-b5a3-5dfc7f25f957"
      },
      "execution_count": 23,
      "outputs": [
        {
          "output_type": "stream",
          "name": "stdout",
          "text": [
            "Ingresa el nuevo nombre rerererer\n",
            "Ingresa el nuevo folio (modificar)  9020: hjhjhjh\n",
            "Ingresa el nuevo telefono (modificar) 5553842567: dhjhdjsadhj\n",
            "Ingresa el nuevo correo (modificar) estirpe2000@gmail.com : fshjhfjhjfs\n",
            "None\n",
            "\n",
            "    nombre: rerererer\n",
            "    folio:hjhjhjh\n",
            "    telefono:dhjhdjsadhj\n",
            "    correo:fshjhfjhjfs\n",
            "    talleres:['Carpintería']\n",
            "     \n"
          ]
        }
      ]
    },
    {
      "cell_type": "markdown",
      "source": [
        ""
      ],
      "metadata": {
        "id": "sm9KkTQQ24dJ"
      }
    }
  ]
}